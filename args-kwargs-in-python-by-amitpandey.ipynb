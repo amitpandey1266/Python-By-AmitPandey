{
 "cells": [
  {
   "cell_type": "code",
   "execution_count": 1,
   "metadata": {
    "_cell_guid": "b1076dfc-b9ad-4769-8c92-a6c4dae69d19",
    "_uuid": "8f2839f25d086af736a60e9eeb907d3b93b6e0e5",
    "execution": {
     "iopub.execute_input": "2020-10-06T09:20:18.840308Z",
     "iopub.status.busy": "2020-10-06T09:20:18.839382Z",
     "iopub.status.idle": "2020-10-06T09:20:18.843367Z",
     "shell.execute_reply": "2020-10-06T09:20:18.842495Z"
    },
    "papermill": {
     "duration": 0.035414,
     "end_time": "2020-10-06T09:20:18.843533",
     "exception": false,
     "start_time": "2020-10-06T09:20:18.808119",
     "status": "completed"
    },
    "tags": []
   },
   "outputs": [],
   "source": [
    "# This Python 3 environment comes with many helpful analytics libraries installed\n",
    "# It is defined by the kaggle/python Docker image: https://github.com/kaggle/docker-python\n",
    "# For example, here's several helpful packages to load\n",
    "\n",
    "import numpy as np # linear algebra\n",
    "import pandas as pd # data processing, CSV file I/O (e.g. pd.read_csv)\n",
    "\n",
    "# Input data files are available in the read-only \"../input/\" directory\n",
    "# For example, running this (by clicking run or pressing Shift+Enter) will list all files under the input directory\n",
    "\n",
    "import os\n",
    "for dirname, _, filenames in os.walk('/kaggle/input'):\n",
    "    for filename in filenames:\n",
    "        print(os.path.join(dirname, filename))\n",
    "\n",
    "# You can write up to 5GB to the current directory (/kaggle/working/) that gets preserved as output when you create a version using \"Save & Run All\" \n",
    "# You can also write temporary files to /kaggle/temp/, but they won't be saved outside of the current session"
   ]
  },
  {
   "cell_type": "markdown",
   "metadata": {
    "papermill": {
     "duration": 0.022401,
     "end_time": "2020-10-06T09:20:18.889832",
     "exception": false,
     "start_time": "2020-10-06T09:20:18.867431",
     "status": "completed"
    },
    "tags": []
   },
   "source": [
    "# The special syntax, *args and **kwargs in function definitions is used to pass a variable number of arguments to a function. The single asterisk form (*args) is used to pass a non-keyworded, variable-length argument list, and the double asterisk form is used to pass a keyworded, variable-length argument list."
   ]
  },
  {
   "cell_type": "markdown",
   "metadata": {
    "papermill": {
     "duration": 0.02226,
     "end_time": "2020-10-06T09:20:18.934626",
     "exception": false,
     "start_time": "2020-10-06T09:20:18.912366",
     "status": "completed"
    },
    "tags": []
   },
   "source": [
    "# **Special Symbols Used for passing arguments:-**\n",
    "# 1.)*args (Non-Keyword Arguments)\n",
    "# 2.)**kwargs (Keyword Arguments)"
   ]
  },
  {
   "cell_type": "markdown",
   "metadata": {
    "papermill": {
     "duration": 0.022116,
     "end_time": "2020-10-06T09:20:18.980866",
     "exception": false,
     "start_time": "2020-10-06T09:20:18.958750",
     "status": "completed"
    },
    "tags": []
   },
   "source": [
    "# Let me tell you that it is not necessary to write *args or **kwargs. Only the * (asterisk) is necessary. You could have also written *var and **vars. Writing *args and **kwargs is just a convention. So now let’s take a look at *args first."
   ]
  },
  {
   "cell_type": "markdown",
   "metadata": {
    "papermill": {
     "duration": 0.022217,
     "end_time": "2020-10-06T09:20:19.026088",
     "exception": false,
     "start_time": "2020-10-06T09:20:19.003871",
     "status": "completed"
    },
    "tags": []
   },
   "source": [
    "# When we Use *args ?"
   ]
  },
  {
   "cell_type": "markdown",
   "metadata": {
    "papermill": {
     "duration": 0.02209,
     "end_time": "2020-10-06T09:20:19.070794",
     "exception": false,
     "start_time": "2020-10-06T09:20:19.048704",
     "status": "completed"
    },
    "tags": []
   },
   "source": [
    "***args is used to send a non-keyworded variable length argument list to the function. Here’s an example to help you get a clear idea:**"
   ]
  },
  {
   "cell_type": "markdown",
   "metadata": {
    "papermill": {
     "duration": 0.021999,
     "end_time": "2020-10-06T09:20:19.115154",
     "exception": false,
     "start_time": "2020-10-06T09:20:19.093155",
     "status": "completed"
    },
    "tags": []
   },
   "source": [
    "# args is a short form of arguments. With the use of *args python takes any number of arguments in user-defined function and converts user inputs to a tuple named args. In other words, *args means zero or more arguments which are stored in a tuple named args."
   ]
  },
  {
   "cell_type": "code",
   "execution_count": 2,
   "metadata": {
    "_cell_guid": "79c7e3d0-c299-4dcb-8224-4455121ee9b0",
    "_uuid": "d629ff2d2480ee46fbb7e2d37f6b5fab8052498a",
    "execution": {
     "iopub.execute_input": "2020-10-06T09:20:19.167316Z",
     "iopub.status.busy": "2020-10-06T09:20:19.166385Z",
     "iopub.status.idle": "2020-10-06T09:20:19.171527Z",
     "shell.execute_reply": "2020-10-06T09:20:19.170891Z"
    },
    "papermill": {
     "duration": 0.034222,
     "end_time": "2020-10-06T09:20:19.171718",
     "exception": false,
     "start_time": "2020-10-06T09:20:19.137496",
     "status": "completed"
    },
    "tags": []
   },
   "outputs": [
    {
     "name": "stdout",
     "output_type": "stream",
     "text": [
      "Hello\n",
      "Welcome\n",
      "to\n",
      "the\n",
      "New World\n"
     ]
    }
   ],
   "source": [
    "def myCode(*argv): \n",
    "    for arg in argv: \n",
    "        print (arg)\n",
    "        \n",
    "myCode('Hello', 'Welcome', 'to','the', 'New World') "
   ]
  },
  {
   "cell_type": "code",
   "execution_count": 3,
   "metadata": {
    "execution": {
     "iopub.execute_input": "2020-10-06T09:20:19.226320Z",
     "iopub.status.busy": "2020-10-06T09:20:19.225267Z",
     "iopub.status.idle": "2020-10-06T09:20:19.229840Z",
     "shell.execute_reply": "2020-10-06T09:20:19.229139Z"
    },
    "papermill": {
     "duration": 0.034698,
     "end_time": "2020-10-06T09:20:19.229979",
     "exception": false,
     "start_time": "2020-10-06T09:20:19.195281",
     "status": "completed"
    },
    "tags": []
   },
   "outputs": [
    {
     "name": "stdout",
     "output_type": "stream",
     "text": [
      "First arg: Amit\n",
      "Next arg through *argv: Learning\n",
      "Next arg through *argv: Python\n",
      "Next arg through *argv: Non-Keyword\n",
      "Next arg through *argv: Argument\n"
     ]
    }
   ],
   "source": [
    "def Check_args(f_arg, *argv):\n",
    "    print(\"First arg:\", f_arg)\n",
    "    for arg in argv:\n",
    "        print(\"Next arg through *argv:\", arg)\n",
    "\n",
    "Check_args('Amit', 'Learning', 'Python', 'Non-Keyword','Argument')"
   ]
  },
  {
   "cell_type": "code",
   "execution_count": 4,
   "metadata": {
    "execution": {
     "iopub.execute_input": "2020-10-06T09:20:19.286328Z",
     "iopub.status.busy": "2020-10-06T09:20:19.285530Z",
     "iopub.status.idle": "2020-10-06T09:20:19.289117Z",
     "shell.execute_reply": "2020-10-06T09:20:19.289919Z"
    },
    "papermill": {
     "duration": 0.036315,
     "end_time": "2020-10-06T09:20:19.290183",
     "exception": false,
     "start_time": "2020-10-06T09:20:19.253868",
     "status": "completed"
    },
    "tags": []
   },
   "outputs": [
    {
     "name": "stdout",
     "output_type": "stream",
     "text": [
      "First argument : Hello\n",
      "Next argument through *argv : Welcome\n",
      "Next argument through *argv : to\n",
      "Next argument through *argv : the\n",
      "Next argument through *argv : New World\n",
      "Next argument through *argv : of\n",
      "Next argument through *argv : Amit Pandey\n"
     ]
    }
   ],
   "source": [
    "# *args with first extra argument\n",
    "def myNewCode(arg1, *argv):\n",
    "    print (\"First argument :\", arg1)\n",
    "    for arg in argv:\n",
    "        print(\"Next argument through *argv :\", arg)\n",
    " \n",
    "myNewCode('Hello', 'Welcome', 'to','the','New World','of','Amit Pandey')"
   ]
  },
  {
   "cell_type": "code",
   "execution_count": 5,
   "metadata": {
    "execution": {
     "iopub.execute_input": "2020-10-06T09:20:19.346733Z",
     "iopub.status.busy": "2020-10-06T09:20:19.345874Z",
     "iopub.status.idle": "2020-10-06T09:20:19.350005Z",
     "shell.execute_reply": "2020-10-06T09:20:19.350575Z"
    },
    "papermill": {
     "duration": 0.035087,
     "end_time": "2020-10-06T09:20:19.350740",
     "exception": false,
     "start_time": "2020-10-06T09:20:19.315653",
     "status": "completed"
    },
    "tags": []
   },
   "outputs": [
    {
     "name": "stdout",
     "output_type": "stream",
     "text": [
      "10\n"
     ]
    }
   ],
   "source": [
    "# Will try to clarify with more examples\n",
    "#Here we will define a function with 2 arguments & use for 2 arguments\n",
    "def add(x,y):\n",
    "     print(x + y)\n",
    "\n",
    "add(5,5)"
   ]
  },
  {
   "cell_type": "code",
   "execution_count": 6,
   "metadata": {
    "execution": {
     "iopub.execute_input": "2020-10-06T09:20:19.407098Z",
     "iopub.status.busy": "2020-10-06T09:20:19.406268Z",
     "iopub.status.idle": "2020-10-06T09:20:19.441545Z",
     "shell.execute_reply": "2020-10-06T09:20:19.440729Z"
    },
    "papermill": {
     "duration": 0.065924,
     "end_time": "2020-10-06T09:20:19.441683",
     "exception": false,
     "start_time": "2020-10-06T09:20:19.375759",
     "status": "completed"
    },
    "tags": []
   },
   "outputs": [
    {
     "ename": "TypeError",
     "evalue": "add() takes 2 positional arguments but 3 were given",
     "output_type": "error",
     "traceback": [
      "\u001b[0;31m---------------------------------------------------------------------------\u001b[0m",
      "\u001b[0;31mTypeError\u001b[0m                                 Traceback (most recent call last)",
      "\u001b[0;32m<ipython-input-6-10e67ed339a8>\u001b[0m in \u001b[0;36m<module>\u001b[0;34m\u001b[0m\n\u001b[1;32m      4\u001b[0m      \u001b[0mprint\u001b[0m\u001b[0;34m(\u001b[0m\u001b[0mx\u001b[0m \u001b[0;34m+\u001b[0m \u001b[0my\u001b[0m\u001b[0;34m)\u001b[0m\u001b[0;34m\u001b[0m\u001b[0;34m\u001b[0m\u001b[0m\n\u001b[1;32m      5\u001b[0m \u001b[0;34m\u001b[0m\u001b[0m\n\u001b[0;32m----> 6\u001b[0;31m \u001b[0madd\u001b[0m\u001b[0;34m(\u001b[0m\u001b[0;36m5\u001b[0m\u001b[0;34m,\u001b[0m\u001b[0;36m5\u001b[0m\u001b[0;34m,\u001b[0m\u001b[0;36m2\u001b[0m\u001b[0;34m)\u001b[0m\u001b[0;34m\u001b[0m\u001b[0;34m\u001b[0m\u001b[0m\n\u001b[0m",
      "\u001b[0;31mTypeError\u001b[0m: add() takes 2 positional arguments but 3 were given"
     ]
    }
   ],
   "source": [
    "#Here we will define a function with 2 arguments & use for 3 arguments\n",
    "#It will throw an error & we need to learn from this error\n",
    "def add(x,y):\n",
    "     print(x + y)\n",
    "\n",
    "add(5,5,2)"
   ]
  },
  {
   "cell_type": "code",
   "execution_count": 7,
   "metadata": {
    "execution": {
     "iopub.execute_input": "2020-10-06T09:20:19.505005Z",
     "iopub.status.busy": "2020-10-06T09:20:19.503965Z",
     "iopub.status.idle": "2020-10-06T09:20:19.508504Z",
     "shell.execute_reply": "2020-10-06T09:20:19.507748Z"
    },
    "papermill": {
     "duration": 0.040942,
     "end_time": "2020-10-06T09:20:19.508640",
     "exception": false,
     "start_time": "2020-10-06T09:20:19.467698",
     "status": "completed"
    },
    "tags": []
   },
   "outputs": [
    {
     "name": "stdout",
     "output_type": "stream",
     "text": [
      "10\n",
      "16\n",
      "55\n"
     ]
    }
   ],
   "source": [
    "#Let's check the result , when we do execute the same with args\n",
    "def Sum(*args):\n",
    "     print(sum(args))    \n",
    "\n",
    "Sum(5,5)\n",
    "Sum(5,5,6)\n",
    "Sum(5,5,6,1,2,3,4,5,6,3,4,2,4,5)\n"
   ]
  },
  {
   "cell_type": "markdown",
   "metadata": {
    "papermill": {
     "duration": 0.026031,
     "end_time": "2020-10-06T09:20:19.560845",
     "exception": false,
     "start_time": "2020-10-06T09:20:19.534814",
     "status": "completed"
    },
    "tags": []
   },
   "source": [
    "#  It is not mandatory to use only keyword named args. You can use any naming convention other than args. Refer the code below wherein I used y instead of args"
   ]
  },
  {
   "cell_type": "code",
   "execution_count": 8,
   "metadata": {
    "execution": {
     "iopub.execute_input": "2020-10-06T09:20:19.620139Z",
     "iopub.status.busy": "2020-10-06T09:20:19.619100Z",
     "iopub.status.idle": "2020-10-06T09:20:19.624734Z",
     "shell.execute_reply": "2020-10-06T09:20:19.622933Z"
    },
    "papermill": {
     "duration": 0.037771,
     "end_time": "2020-10-06T09:20:19.624953",
     "exception": false,
     "start_time": "2020-10-06T09:20:19.587182",
     "status": "completed"
    },
    "tags": []
   },
   "outputs": [
    {
     "name": "stdout",
     "output_type": "stream",
     "text": [
      "117\n"
     ]
    }
   ],
   "source": [
    "def MyCode(*y):\n",
    "    print(sum(y))\n",
    "    \n",
    "MyCode(39,37,41)"
   ]
  },
  {
   "cell_type": "code",
   "execution_count": 9,
   "metadata": {
    "execution": {
     "iopub.execute_input": "2020-10-06T09:20:19.690915Z",
     "iopub.status.busy": "2020-10-06T09:20:19.689983Z",
     "iopub.status.idle": "2020-10-06T09:20:19.694360Z",
     "shell.execute_reply": "2020-10-06T09:20:19.694974Z"
    },
    "papermill": {
     "duration": 0.041361,
     "end_time": "2020-10-06T09:20:19.695141",
     "exception": false,
     "start_time": "2020-10-06T09:20:19.653780",
     "status": "completed"
    },
    "tags": []
   },
   "outputs": [
    {
     "name": "stdout",
     "output_type": "stream",
     "text": [
      "Very Low\n",
      "Very Low\n",
      "Very High\n",
      "Very High\n",
      "Very High\n",
      "Medium\n",
      "Very Low\n"
     ]
    }
   ],
   "source": [
    "#Using args in loop\n",
    "def MyCode(*args):\n",
    "    for arg in args:\n",
    "        if arg/100 > 7:\n",
    "            print('Very High')\n",
    "        elif arg/100 >5:\n",
    "            print('Medium')\n",
    "        elif arg/100 >0:\n",
    "            print('Very Low')\n",
    "MyCode(500,50,890,900,3000,700,80)"
   ]
  },
  {
   "cell_type": "code",
   "execution_count": 10,
   "metadata": {
    "execution": {
     "iopub.execute_input": "2020-10-06T09:20:19.763268Z",
     "iopub.status.busy": "2020-10-06T09:20:19.762108Z",
     "iopub.status.idle": "2020-10-06T09:20:19.766859Z",
     "shell.execute_reply": "2020-10-06T09:20:19.766258Z"
    },
    "papermill": {
     "duration": 0.044051,
     "end_time": "2020-10-06T09:20:19.766988",
     "exception": false,
     "start_time": "2020-10-06T09:20:19.722937",
     "status": "completed"
    },
    "tags": []
   },
   "outputs": [
    {
     "data": {
      "text/plain": [
       "['Very Low']"
      ]
     },
     "execution_count": 10,
     "metadata": {},
     "output_type": "execute_result"
    }
   ],
   "source": [
    "#If we want to store the output \n",
    "L = []\n",
    "def MyCode(*args):\n",
    "    for arg in args:\n",
    "        if arg/100 > 7:\n",
    "            flag = 'Very High'\n",
    "        elif arg/100 >5:\n",
    "            flag = 'Medium'\n",
    "        elif arg/100 >0:\n",
    "            flag = 'Very Low'\n",
    "        L.append(flag)\n",
    "        return L\n",
    "MyCode(500,50,890,900,3000,700,80)"
   ]
  },
  {
   "cell_type": "code",
   "execution_count": 11,
   "metadata": {
    "execution": {
     "iopub.execute_input": "2020-10-06T09:20:19.836835Z",
     "iopub.status.busy": "2020-10-06T09:20:19.835843Z",
     "iopub.status.idle": "2020-10-06T09:20:19.841519Z",
     "shell.execute_reply": "2020-10-06T09:20:19.840740Z"
    },
    "papermill": {
     "duration": 0.046762,
     "end_time": "2020-10-06T09:20:19.841664",
     "exception": false,
     "start_time": "2020-10-06T09:20:19.794902",
     "status": "completed"
    },
    "tags": []
   },
   "outputs": [
    {
     "ename": "NameError",
     "evalue": "name 'Storing_Output' is not defined",
     "output_type": "error",
     "traceback": [
      "\u001b[0;31m---------------------------------------------------------------------------\u001b[0m",
      "\u001b[0;31mNameError\u001b[0m                                 Traceback (most recent call last)",
      "\u001b[0;32m<ipython-input-11-7c4def3da74a>\u001b[0m in \u001b[0;36m<module>\u001b[0;34m\u001b[0m\n\u001b[0;32m----> 1\u001b[0;31m \u001b[0mStoring_Output\u001b[0m\u001b[0;34m\u001b[0m\u001b[0;34m\u001b[0m\u001b[0m\n\u001b[0m",
      "\u001b[0;31mNameError\u001b[0m: name 'Storing_Output' is not defined"
     ]
    }
   ],
   "source": [
    "Storing_Output"
   ]
  },
  {
   "cell_type": "markdown",
   "metadata": {
    "papermill": {
     "duration": 0.028169,
     "end_time": "2020-10-06T09:20:19.898654",
     "exception": false,
     "start_time": "2020-10-06T09:20:19.870485",
     "status": "completed"
    },
    "tags": []
   },
   "source": [
    "# When to use **kwargs ?? \n",
    "# **kwargs allows you to pass keyworded variable length of arguments to a function. You should use **kwargs if you want to handle named arguments in a function."
   ]
  },
  {
   "cell_type": "markdown",
   "metadata": {
    "papermill": {
     "duration": 0.027975,
     "end_time": "2020-10-06T09:20:19.955915",
     "exception": false,
     "start_time": "2020-10-06T09:20:19.927940",
     "status": "completed"
    },
    "tags": []
   },
   "source": [
    "**kwargs\n",
    "\n",
    "The special syntax **kwargs in function definitions in python is used to pass a keyworded, variable-length argument list. We use the name kwargs with the double star. The reason is because the double star allows us to pass through keyword arguments (and any number of them).\n",
    "\n"
   ]
  },
  {
   "cell_type": "markdown",
   "metadata": {
    "papermill": {
     "duration": 0.028349,
     "end_time": "2020-10-06T09:20:20.013823",
     "exception": false,
     "start_time": "2020-10-06T09:20:19.985474",
     "status": "completed"
    },
    "tags": []
   },
   "source": [
    "* A keyword argument is where you provide a name to the variable as you pass it into the function.\n",
    "* One can think of the kwargs as being a dictionary that maps each keyword to the value that we pass alongside it. \n",
    "* That is why when we iterate over the kwargs there doesn’t seem to be any order in which they were printed out."
   ]
  },
  {
   "cell_type": "code",
   "execution_count": 12,
   "metadata": {
    "execution": {
     "iopub.execute_input": "2020-10-06T09:20:20.078757Z",
     "iopub.status.busy": "2020-10-06T09:20:20.077614Z",
     "iopub.status.idle": "2020-10-06T09:20:20.082327Z",
     "shell.execute_reply": "2020-10-06T09:20:20.081559Z"
    },
    "papermill": {
     "duration": 0.040318,
     "end_time": "2020-10-06T09:20:20.082486",
     "exception": false,
     "start_time": "2020-10-06T09:20:20.042168",
     "status": "completed"
    },
    "tags": []
   },
   "outputs": [
    {
     "name": "stdout",
     "output_type": "stream",
     "text": [
      "Hello = Hello\n",
      "Name = Friend\n",
      "How = How\n",
      "Are = Are\n",
      "You = You?\n"
     ]
    }
   ],
   "source": [
    "def Greet_You(**kwargs):\n",
    "    for key, value in kwargs.items():\n",
    "        print(\"{0} = {1}\".format(key, value))\n",
    "              \n",
    "Greet_You(Hello = \"Hello\",Name=\"Friend\",How=\"How\",Are=\"Are\",You=\"You?\")\n"
   ]
  },
  {
   "cell_type": "code",
   "execution_count": 13,
   "metadata": {
    "execution": {
     "iopub.execute_input": "2020-10-06T09:20:20.150295Z",
     "iopub.status.busy": "2020-10-06T09:20:20.149097Z",
     "iopub.status.idle": "2020-10-06T09:20:20.153019Z",
     "shell.execute_reply": "2020-10-06T09:20:20.153701Z"
    },
    "papermill": {
     "duration": 0.041529,
     "end_time": "2020-10-06T09:20:20.153879",
     "exception": false,
     "start_time": "2020-10-06T09:20:20.112350",
     "status": "completed"
    },
    "tags": []
   },
   "outputs": [
    {
     "name": "stdout",
     "output_type": "stream",
     "text": [
      "First == Believe\n",
      "Mid == In\n",
      "Last == Yourself\n"
     ]
    }
   ],
   "source": [
    "def myCode(**kwargs): \n",
    "    for key, value in kwargs.items():\n",
    "        print (\"%s == %s\" %(key, value))\n",
    " # Driver code\n",
    "myCode(First ='Believe', Mid ='In', Last='Yourself')   "
   ]
  },
  {
   "cell_type": "code",
   "execution_count": 14,
   "metadata": {
    "execution": {
     "iopub.execute_input": "2020-10-06T09:20:20.221901Z",
     "iopub.status.busy": "2020-10-06T09:20:20.221056Z",
     "iopub.status.idle": "2020-10-06T09:20:20.224481Z",
     "shell.execute_reply": "2020-10-06T09:20:20.225223Z"
    },
    "papermill": {
     "duration": 0.041095,
     "end_time": "2020-10-06T09:20:20.225455",
     "exception": false,
     "start_time": "2020-10-06T09:20:20.184360",
     "status": "completed"
    },
    "tags": []
   },
   "outputs": [
    {
     "name": "stdout",
     "output_type": "stream",
     "text": [
      "First == Believe\n",
      "Mid == In\n",
      "Last == Yourself\n"
     ]
    }
   ],
   "source": [
    "def myCode(arg1, **kwargs): \n",
    "    for key, value in kwargs.items():\n",
    "        print (\"%s == %s\" %(key, value))\n",
    "        \n",
    "# Driver code\n",
    "myCode(\"Hello\", First ='Believe', Mid ='In', Last='Yourself')    "
   ]
  },
  {
   "cell_type": "code",
   "execution_count": 15,
   "metadata": {
    "execution": {
     "iopub.execute_input": "2020-10-06T09:20:20.296933Z",
     "iopub.status.busy": "2020-10-06T09:20:20.295788Z",
     "iopub.status.idle": "2020-10-06T09:20:20.301905Z",
     "shell.execute_reply": "2020-10-06T09:20:20.301204Z"
    },
    "papermill": {
     "duration": 0.045426,
     "end_time": "2020-10-06T09:20:20.302042",
     "exception": false,
     "start_time": "2020-10-06T09:20:20.256616",
     "status": "completed"
    },
    "tags": []
   },
   "outputs": [
    {
     "name": "stdout",
     "output_type": "stream",
     "text": [
      "arg1: Love\n",
      "arg2: Your\n",
      "arg3: Codes\n",
      "arg1: Love\n",
      "arg2: Your\n",
      "arg3: Codes\n"
     ]
    }
   ],
   "source": [
    "def myCode(arg1, arg2, arg3):\n",
    "    print(\"arg1:\", arg1)\n",
    "    print(\"arg2:\", arg2)\n",
    "    print(\"arg3:\", arg3)\n",
    "     \n",
    "# Now we can use *args or **kwargs to\n",
    "# pass arguments to this function : \n",
    "args = (\"Love\", \"Your\", \"Codes\")\n",
    "myCode(*args)\n",
    " \n",
    "kwargs = {\"arg1\" : \"Love\", \"arg2\" : \"Your\", \"arg3\" : \"Codes\"}\n",
    "myCode(**kwargs)"
   ]
  },
  {
   "cell_type": "code",
   "execution_count": 16,
   "metadata": {
    "execution": {
     "iopub.execute_input": "2020-10-06T09:20:20.373515Z",
     "iopub.status.busy": "2020-10-06T09:20:20.372522Z",
     "iopub.status.idle": "2020-10-06T09:20:20.376120Z",
     "shell.execute_reply": "2020-10-06T09:20:20.376840Z"
    },
    "papermill": {
     "duration": 0.043002,
     "end_time": "2020-10-06T09:20:20.377002",
     "exception": false,
     "start_time": "2020-10-06T09:20:20.334000",
     "status": "completed"
    },
    "tags": []
   },
   "outputs": [
    {
     "name": "stdout",
     "output_type": "stream",
     "text": [
      "args:  ('Love', 'Your', 'Codes')\n",
      "kwargs:  {'First': 'Love', 'Mid': 'Your', 'Last': 'Codes'}\n"
     ]
    }
   ],
   "source": [
    "def myCode(*args,**kwargs):\n",
    "    print(\"args: \", args)\n",
    "    print(\"kwargs: \", kwargs)\n",
    "    #Now we can use both *args ,**kwargs to pass arguments to this function\n",
    "myCode('Love','Your','Codes',First=\"Love\",Mid=\"Your\",Last=\"Codes\")"
   ]
  },
  {
   "cell_type": "markdown",
   "metadata": {
    "papermill": {
     "duration": 0.031899,
     "end_time": "2020-10-06T09:20:20.440859",
     "exception": false,
     "start_time": "2020-10-06T09:20:20.408960",
     "status": "completed"
    },
    "tags": []
   },
   "source": [
    "# **Uses of kwargs**\n",
    "# Suppose you need to build a conditional statement which says sum of all the arguments if a fixed named argument called flag is set 'Yes'. Otherwise ignore the calculation and don't sum values and also throws a message which hints users why calculation has been ignored."
   ]
  },
  {
   "cell_type": "markdown",
   "metadata": {
    "papermill": {
     "duration": 0.033181,
     "end_time": "2020-10-06T09:20:20.505810",
     "exception": false,
     "start_time": "2020-10-06T09:20:20.472629",
     "status": "completed"
    },
    "tags": []
   },
   "source": [
    "#  Like args, any keyword other than kwargs can be used preceded by **. In the example, we used i instead of kwargs."
   ]
  },
  {
   "cell_type": "code",
   "execution_count": 17,
   "metadata": {
    "execution": {
     "iopub.execute_input": "2020-10-06T09:20:20.580209Z",
     "iopub.status.busy": "2020-10-06T09:20:20.578797Z",
     "iopub.status.idle": "2020-10-06T09:20:20.584188Z",
     "shell.execute_reply": "2020-10-06T09:20:20.584749Z"
    },
    "papermill": {
     "duration": 0.046595,
     "end_time": "2020-10-06T09:20:20.584924",
     "exception": false,
     "start_time": "2020-10-06T09:20:20.538329",
     "status": "completed"
    },
    "tags": []
   },
   "outputs": [
    {
     "data": {
      "text/plain": [
       "71"
      ]
     },
     "execution_count": 17,
     "metadata": {},
     "output_type": "execute_result"
    }
   ],
   "source": [
    "def calculation(flag='Yes', **i):\n",
    "    if flag == 'Yes' :\n",
    "        return sum(i.values())\n",
    "    else :\n",
    "        print(\"Flag is set No\")\n",
    "\n",
    "calculation(x=47, y=24)"
   ]
  },
  {
   "cell_type": "code",
   "execution_count": 18,
   "metadata": {
    "execution": {
     "iopub.execute_input": "2020-10-06T09:20:20.658670Z",
     "iopub.status.busy": "2020-10-06T09:20:20.657654Z",
     "iopub.status.idle": "2020-10-06T09:20:20.661422Z",
     "shell.execute_reply": "2020-10-06T09:20:20.662050Z"
    },
    "papermill": {
     "duration": 0.043704,
     "end_time": "2020-10-06T09:20:20.662220",
     "exception": false,
     "start_time": "2020-10-06T09:20:20.618516",
     "status": "completed"
    },
    "tags": []
   },
   "outputs": [
    {
     "name": "stdout",
     "output_type": "stream",
     "text": [
      "Flag is set No\n"
     ]
    }
   ],
   "source": [
    "calculation(flag='No', x=37, y=92)"
   ]
  },
  {
   "cell_type": "code",
   "execution_count": 19,
   "metadata": {
    "execution": {
     "iopub.execute_input": "2020-10-06T09:20:20.737727Z",
     "iopub.status.busy": "2020-10-06T09:20:20.736372Z",
     "iopub.status.idle": "2020-10-06T09:20:20.741280Z",
     "shell.execute_reply": "2020-10-06T09:20:20.740499Z"
    },
    "papermill": {
     "duration": 0.045649,
     "end_time": "2020-10-06T09:20:20.741407",
     "exception": false,
     "start_time": "2020-10-06T09:20:20.695758",
     "status": "completed"
    },
    "tags": []
   },
   "outputs": [
    {
     "data": {
      "text/plain": [
       "140"
      ]
     },
     "execution_count": 19,
     "metadata": {},
     "output_type": "execute_result"
    }
   ],
   "source": [
    "#Smart way of using args using lambda\n",
    "from functools import reduce\n",
    "def add(*args):\n",
    "    return reduce(lambda x,y:x+y, args)\n",
    "\n",
    "add(1,9,20,21,89)"
   ]
  },
  {
   "cell_type": "code",
   "execution_count": null,
   "metadata": {
    "papermill": {
     "duration": 0.03328,
     "end_time": "2020-10-06T09:20:20.808281",
     "exception": false,
     "start_time": "2020-10-06T09:20:20.775001",
     "status": "completed"
    },
    "tags": []
   },
   "outputs": [],
   "source": []
  }
 ],
 "metadata": {
  "kernelspec": {
   "display_name": "Python 3",
   "language": "python",
   "name": "python3"
  },
  "language_info": {
   "codemirror_mode": {
    "name": "ipython",
    "version": 3
   },
   "file_extension": ".py",
   "mimetype": "text/x-python",
   "name": "python",
   "nbconvert_exporter": "python",
   "pygments_lexer": "ipython3",
   "version": "3.7.6"
  },
  "papermill": {
   "duration": 7.33635,
   "end_time": "2020-10-06T09:20:20.952634",
   "environment_variables": {},
   "exception": null,
   "input_path": "__notebook__.ipynb",
   "output_path": "__notebook__.ipynb",
   "parameters": {},
   "start_time": "2020-10-06T09:20:13.616284",
   "version": "2.1.0"
  }
 },
 "nbformat": 4,
 "nbformat_minor": 4
}
